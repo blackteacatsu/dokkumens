{
 "cells": [
  {
   "cell_type": "code",
   "execution_count": 1,
   "metadata": {},
   "outputs": [],
   "source": [
    "from PIL import Image"
   ]
  },
  {
   "cell_type": "code",
   "execution_count": 2,
   "metadata": {},
   "outputs": [
    {
     "name": "stdout",
     "output_type": "stream",
     "text": [
      "Inverted image saved as C:\\Users\\Kris\\Documents\\frontend-practice\\marqueen desiogn\\img\\SA-logo-BLACK.png\n"
     ]
    }
   ],
   "source": [
    "def invert_image_colors(input_path, output_path):\n",
    "    # Open the input image\n",
    "    image = Image.open(input_path)\n",
    "    \n",
    "    # Convert the image to RGBA if it is not in that mode\n",
    "    if image.mode != 'RGBA':\n",
    "        image = image.convert('RGBA')\n",
    "    \n",
    "    # Get the pixel data\n",
    "    pixels = image.load()\n",
    "    \n",
    "    # Invert the colors\n",
    "    for y in range(image.size[1]):\n",
    "        for x in range(image.size[0]):\n",
    "            r, g, b, a = pixels[x, y]\n",
    "            pixels[x, y] = (255 - r, 255 - g, 255 - b, a)\n",
    "    \n",
    "    # Save the output image\n",
    "    image.save(output_path)\n",
    "\n",
    "# Usage\n",
    "input_image_path = r'C:\\Users\\Kris\\Documents\\frontend-practice\\marqueen desiogn\\img\\SA-logo-WHITE.png'\n",
    "output_image_path = r'C:\\Users\\Kris\\Documents\\frontend-practice\\marqueen desiogn\\img\\SA-logo-BLACK.png'\n",
    "invert_image_colors(input_image_path, output_image_path)\n",
    "\n",
    "print(f\"Inverted image saved as {output_image_path}\")\n"
   ]
  }
 ],
 "metadata": {
  "kernelspec": {
   "display_name": "base",
   "language": "python",
   "name": "python3"
  },
  "language_info": {
   "codemirror_mode": {
    "name": "ipython",
    "version": 3
   },
   "file_extension": ".py",
   "mimetype": "text/x-python",
   "name": "python",
   "nbconvert_exporter": "python",
   "pygments_lexer": "ipython3",
   "version": "3.11.7"
  }
 },
 "nbformat": 4,
 "nbformat_minor": 2
}
